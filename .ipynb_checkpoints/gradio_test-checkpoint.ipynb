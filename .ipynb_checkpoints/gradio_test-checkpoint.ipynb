{
 "cells": [
  {
   "cell_type": "code",
   "execution_count": null,
   "id": "054b639e-996d-4cd8-b1e0-cf72c4859471",
   "metadata": {},
   "outputs": [
    {
     "name": "stderr",
     "output_type": "stream",
     "text": [
      "C:\\Users\\stane\\AppData\\Local\\Programs\\Python\\Python312\\Lib\\site-packages\\tqdm\\auto.py:21: TqdmWarning: IProgress not found. Please update jupyter and ipywidgets. See https://ipywidgets.readthedocs.io/en/stable/user_install.html\n",
      "  from .autonotebook import tqdm as notebook_tqdm\n"
     ]
    }
   ],
   "source": [
    "import gradio as gr # oh yeah!\n",
    "from chatbot import get_embedding, milvus, get_chatbot_answer"
   ]
  },
  {
   "cell_type": "code",
   "execution_count": null,
   "id": "101262da-7d49-4400-b90e-a6a637e372eb",
   "metadata": {},
   "outputs": [],
   "source": [
    "def run_chatbot_2(message, history):\n",
    "    \"\"\"\n",
    "    Gradio with type=\"messages\" calls with:\n",
    "      message: latest user message (str)\n",
    "      history: list of {\"role\": ..., \"content\": ...}\n",
    "    \"\"\"\n",
    "    embedding = get_embedding(message, model=\"text-embedding-3-large\")\n",
    "    context = milvus.search(embedding, top_k=2)\n",
    "    answer_from_gpt = get_chatbot_answer(message, context)\n",
    "\n",
    "    return answer_from_gpt \n"
   ]
  },
  {
   "cell_type": "code",
   "execution_count": null,
   "id": "01f0bb32-1c9f-40c0-9e22-8c2050527ac1",
   "metadata": {},
   "outputs": [],
   "source": [
    "gr.ChatInterface(fn=run_chatbot_2, type=\"messages\").launch()"
   ]
  },
  {
   "cell_type": "code",
   "execution_count": null,
   "id": "c0509d7c-94f4-4fad-a367-dda1746810ff",
   "metadata": {},
   "outputs": [],
   "source": []
  }
 ],
 "metadata": {
  "kernelspec": {
   "display_name": "Python 3 (ipykernel)",
   "language": "python",
   "name": "python3"
  },
  "language_info": {
   "codemirror_mode": {
    "name": "ipython",
    "version": 3
   },
   "file_extension": ".py",
   "mimetype": "text/x-python",
   "name": "python",
   "nbconvert_exporter": "python",
   "pygments_lexer": "ipython3",
   "version": "3.12.1"
  }
 },
 "nbformat": 4,
 "nbformat_minor": 5
}
