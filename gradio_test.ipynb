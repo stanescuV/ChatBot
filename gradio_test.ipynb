{
 "cells": [
  {
   "cell_type": "code",
   "execution_count": 3,
   "id": "054b639e-996d-4cd8-b1e0-cf72c4859471",
   "metadata": {},
   "outputs": [
    {
     "name": "stdout",
     "output_type": "stream",
     "text": [
      "[{'id': 460832451154111108, 'score': 0.5147175192832947, 'text': 'Articol 228 - Furtul\\n(1) Luarea unui bun mobil din posesia sau detenţia altuia, fără consimţământul acestuia, în scopul de a şi-l însuşi pe nedrept, se pedepseşte cu închisoare de la 6 luni la 3 ani sau cu amendă. (2) Fapta constituie furt şi dacă bunul aparţine în întregime sau în parte făptuitorului, dar în momentul săvârşirii acel bun se găsea în posesia sau detenţia legitimă a altei persoane. (3) Se consideră bunuri mobile şi înscrisurile, energia electrică, precum şi orice alt fel de energie care are valoare economică. RO'}, {'id': 460832451154111559, 'score': 0.5147013664245605, 'text': 'Articol 228 - Furtul\\n(1) Luarea unui bun mobil din posesia sau detenţia altuia, fără consimţământul acestuia, în scopul de a şi-l însuşi pe nedrept, se pedepseşte cu închisoare de la 6 luni la 3 ani sau cu amendă. (2) Fapta constituie furt şi dacă bunul aparţine în întregime sau în parte făptuitorului, dar în momentul săvârşirii acel bun se găsea în posesia sau detenţia legitimă a altei persoane. (3) Se consideră bunuri mobile şi înscrisurile, energia electrică, precum şi orice alt fel de energie care are valoare economică. RO'}]\n",
      "Dacă furi, te poți confrunta cu o pedeapsă de închisoare de la 6 luni la 3 ani sau cu amendă, conform articolului 228 din Codul Penal. Furtul este definit ca luarea unui bun mobil din posesia altuia, fără consimțământul acestuia, în scopul de a ți-l însuși pe nedrept.\n"
     ]
    }
   ],
   "source": [
    "import gradio as gr # oh yeah!\n",
    "from chatbot import get_embedding, milvus, get_chatbot_answer"
   ]
  },
  {
   "cell_type": "code",
   "execution_count": 4,
   "id": "101262da-7d49-4400-b90e-a6a637e372eb",
   "metadata": {},
   "outputs": [],
   "source": [
    "def run_chatbot_2(message, history):\n",
    "    \"\"\"\n",
    "    Gradio with type=\"messages\" calls with:\n",
    "      message: latest user message (str)\n",
    "      history: list of {\"role\": ..., \"content\": ...}\n",
    "    \"\"\"\n",
    "    embedding = get_embedding(message, model=\"text-embedding-3-large\")\n",
    "    context = milvus.search(embedding, top_k=2)\n",
    "    answer_from_gpt = get_chatbot_answer(message, context)\n",
    "\n",
    "    return answer_from_gpt \n"
   ]
  },
  {
   "cell_type": "code",
   "execution_count": 6,
   "id": "01f0bb32-1c9f-40c0-9e22-8c2050527ac1",
   "metadata": {},
   "outputs": [
    {
     "name": "stdout",
     "output_type": "stream",
     "text": [
      "* Running on local URL:  http://127.0.0.1:7861\n",
      "* To create a public link, set `share=True` in `launch()`.\n"
     ]
    },
    {
     "data": {
      "text/html": [
       "<div><iframe src=\"http://127.0.0.1:7861/\" width=\"100%\" height=\"500\" allow=\"autoplay; camera; microphone; clipboard-read; clipboard-write;\" frameborder=\"0\" allowfullscreen></iframe></div>"
      ],
      "text/plain": [
       "<IPython.core.display.HTML object>"
      ]
     },
     "metadata": {},
     "output_type": "display_data"
    },
    {
     "data": {
      "text/plain": []
     },
     "execution_count": 6,
     "metadata": {},
     "output_type": "execute_result"
    }
   ],
   "source": [
    "gr.ChatInterface(fn=run_chatbot_2, type=\"messages\").launch()"
   ]
  },
  {
   "cell_type": "code",
   "execution_count": null,
   "id": "c0509d7c-94f4-4fad-a367-dda1746810ff",
   "metadata": {},
   "outputs": [],
   "source": []
  }
 ],
 "metadata": {
  "kernelspec": {
   "display_name": "Python 3 (ipykernel)",
   "language": "python",
   "name": "python3"
  },
  "language_info": {
   "codemirror_mode": {
    "name": "ipython",
    "version": 3
   },
   "file_extension": ".py",
   "mimetype": "text/x-python",
   "name": "python",
   "nbconvert_exporter": "python",
   "pygments_lexer": "ipython3",
   "version": "3.12.1"
  }
 },
 "nbformat": 4,
 "nbformat_minor": 5
}
