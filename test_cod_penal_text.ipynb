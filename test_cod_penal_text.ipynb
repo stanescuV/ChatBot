{
 "cells": [
  {
   "cell_type": "code",
   "execution_count": 6,
   "id": "de2ae93a",
   "metadata": {},
   "outputs": [
    {
     "name": "stdout",
     "output_type": "stream",
     "text": [
      "{'ArtNumber': 236, 'ArtName': 'Tâlhăria sau pirateria urmată de moartea victimei', 'ArtText': 'Dacă faptele prevăzute în art. 233-235 au avut ca urmare moartea victimei, pedeapsa este închisoarea de la 7 la 18 ani şi interzicerea exercitării unor drepturi. 834 Codex penal'}\n"
     ]
    }
   ],
   "source": [
    "import re\n",
    "\n",
    "with open(\"codPenal.txt\", \"r\", encoding='utf-8') as file:\n",
    "    codPenal = file.read()\n",
    "    \n",
    "def parse_legal_articles(text):\n",
    "    # Capture the whole header (Art. 238.) AND the number (238)\n",
    "    pattern = re.compile(r'(Art\\.\\s*(\\d+)\\.)')\n",
    "\n",
    "    # With capturing groups, split() returns:\n",
    "    # [pre, header1, number1, content1, header2, number2, content2, ...]\n",
    "    parts = pattern.split(text)\n",
    "\n",
    "    articles = []\n",
    "    skip_keywords = (\"CAP\", \"SEC\", \"TIT\")\n",
    "\n",
    "    # Walk the array in chunks of 3: header, number, content\n",
    "    for i in range(1, len(parts) - 1, 3):\n",
    "        header = parts[i].strip()              # e.g., \"Art. 238.\"\n",
    "        number_str = parts[i + 1].strip()      # e.g., \"238\"\n",
    "        content = parts[i + 2]                 # text after the header\n",
    "\n",
    "        # Stop content at the next structural keyword (if any)\n",
    "        for kw in skip_keywords:\n",
    "            pos = content.find(kw)\n",
    "            if pos != -1:\n",
    "                content = content[:pos]\n",
    "                break\n",
    "\n",
    "        # Normalize whitespace\n",
    "        content = re.sub(r'\\s+', ' ', content).strip()\n",
    "\n",
    "        # Extract title (ArtName) = text before first period in the content\n",
    "        if '.' in content:\n",
    "            art_name, art_text = content.split('.', 1)\n",
    "            art_name = art_name.strip()\n",
    "            art_text = art_text.strip()\n",
    "        else:\n",
    "            art_name = content.strip()\n",
    "            art_text = \"\"\n",
    "\n",
    "        # Convert number to int when possible\n",
    "        try:\n",
    "            art_number = int(number_str)\n",
    "        except ValueError:\n",
    "            art_number = number_str  # fallback to string if unexpected format\n",
    "\n",
    "        articles.append({\n",
    "            'ArtNumber': art_number,\n",
    "            'ArtName': art_name,\n",
    "            'ArtText': art_text\n",
    "        })\n",
    "\n",
    "\n",
    "    print(articles[237])\n",
    "\n",
    "\n",
    "articles = parse_legal_articles(codPenal)\n",
    "\n",
    "\n"
   ]
  },
  {
   "cell_type": "code",
   "execution_count": null,
   "id": "6933073b-1d51-406f-b628-42b5b4a324b0",
   "metadata": {},
   "outputs": [],
   "source": []
  }
 ],
 "metadata": {
  "kernelspec": {
   "display_name": "Python 3 (ipykernel)",
   "language": "python",
   "name": "python3"
  },
  "language_info": {
   "codemirror_mode": {
    "name": "ipython",
    "version": 3
   },
   "file_extension": ".py",
   "mimetype": "text/x-python",
   "name": "python",
   "nbconvert_exporter": "python",
   "pygments_lexer": "ipython3",
   "version": "3.12.1"
  }
 },
 "nbformat": 4,
 "nbformat_minor": 5
}
