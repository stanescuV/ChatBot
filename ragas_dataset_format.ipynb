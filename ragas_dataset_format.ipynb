{
 "cells": [
  {
   "cell_type": "code",
   "execution_count": 1,
   "id": "3ce6f7b6-be54-4523-8c9e-c653a6ffdf55",
   "metadata": {},
   "outputs": [
    {
     "name": "stdout",
     "output_type": "stream",
     "text": [
      "✅ Converted ragas.csv → ragas.json\n"
     ]
    }
   ],
   "source": [
    "import pandas as pd\n",
    "import ast\n",
    "import json\n",
    "\n",
    "# 1. Read CSV with no header\n",
    "df = pd.read_csv(\"ragas.csv\", header=None, encoding=\"utf-8\")\n",
    "\n",
    "# 2. Grab the first cell\n",
    "raw_str = df.iat[0, 0]\n",
    "\n",
    "# 3. Convert Python-style string → Python object\n",
    "python_obj = ast.literal_eval(raw_str)\n",
    "\n",
    "# 4. Convert Python object → JSON string\n",
    "json_str = json.dumps(python_obj, ensure_ascii=False, indent=2)\n",
    "\n",
    "# 5. Save to file\n",
    "with open(\"ragas.json\", \"w\", encoding=\"utf-8\") as f:\n",
    "    f.write(json_str)\n",
    "\n",
    "print(\"✅ Converted ragas.csv → ragas.json\")\n"
   ]
  },
  {
   "cell_type": "code",
   "execution_count": null,
   "id": "67fa3e5c-c831-4050-a585-fd90ec78adb5",
   "metadata": {},
   "outputs": [],
   "source": []
  }
 ],
 "metadata": {
  "kernelspec": {
   "display_name": "Python 3 (ipykernel)",
   "language": "python",
   "name": "python3"
  },
  "language_info": {
   "codemirror_mode": {
    "name": "ipython",
    "version": 3
   },
   "file_extension": ".py",
   "mimetype": "text/x-python",
   "name": "python",
   "nbconvert_exporter": "python",
   "pygments_lexer": "ipython3",
   "version": "3.12.1"
  }
 },
 "nbformat": 4,
 "nbformat_minor": 5
}
