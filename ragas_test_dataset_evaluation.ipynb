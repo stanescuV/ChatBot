{
 "cells": [
  {
   "cell_type": "code",
   "execution_count": 2,
   "id": "0d392107-c0bf-4e67-b327-2414ae034c62",
   "metadata": {},
   "outputs": [],
   "source": [
    "import json\n",
    "from datasets import Dataset, DatasetDict\n",
    "\n",
    "# Load your JSON file\n",
    "with open(\"ragas.json\", \"r\", encoding=\"utf-8\") as f:\n",
    "    raw_data = json.load(f)\n",
    "\n",
    "# Convert into ragas format\n",
    "data = {\n",
    "    \"question\": [],\n",
    "    \"contexts\": [],\n",
    "    \"answer\": [],\n",
    "}\n",
    "\n",
    "for item in raw_data:\n",
    "    data[\"question\"].append(item[\"question\"])\n",
    "    data[\"contexts\"].append([c[\"text\"] for c in item[\"context\"]])\n",
    "    data[\"answer\"].append(item[\"answer_gpt\"])\n",
    "\n",
    "# Create a HuggingFace Dataset\n",
    "dataset = Dataset.from_dict(data)\n",
    "\n",
    "# Wrap into DatasetDict as required by ragas\n",
    "dataset = DatasetDict({\"eval\": dataset})\n"
   ]
  },
  {
   "cell_type": "code",
   "execution_count": 4,
   "id": "d3fad623-734d-4186-8c96-75c8615d6132",
   "metadata": {},
   "outputs": [
    {
     "name": "stderr",
     "output_type": "stream",
     "text": [
      "Evaluating:   1%|█                                                                                | 2/148 [00:09<11:18,  4.65s/it]Exception raised in Job[17]: IndexError(list index out of range)\n",
      "Evaluating:   6%|████▉                                                                            | 9/148 [00:10<01:51,  1.24it/s]Exception raised in Job[19]: IndexError(list index out of range)\n",
      "Exception raised in Job[23]: IndexError(list index out of range)\n",
      "Evaluating:   7%|█████▉                                                                          | 11/148 [00:10<01:23,  1.63it/s]Exception raised in Job[21]: IndexError(list index out of range)\n",
      "Evaluating:  23%|██████████████████▍                                                             | 34/148 [00:23<00:50,  2.26it/s]Exception raised in Job[41]: IndexError(list index out of range)\n",
      "Evaluating:  26%|████████████████████▌                                                           | 38/148 [00:25<00:55,  1.97it/s]Exception raised in Job[51]: IndexError(list index out of range)\n",
      "Evaluating:  30%|████████████████████████▎                                                       | 45/148 [00:28<00:39,  2.62it/s]Exception raised in Job[57]: IndexError(list index out of range)\n",
      "Evaluating:  49%|███████████████████████████████████████▍                                        | 73/148 [00:45<00:43,  1.72it/s]Exception raised in Job[89]: IndexError(list index out of range)\n",
      "Evaluating:  70%|███████████████████████████████████████████████████████▌                       | 104/148 [01:02<00:19,  2.28it/s]Exception raised in Job[117]: IndexError(list index out of range)\n",
      "Evaluating: 100%|███████████████████████████████████████████████████████████████████████████████| 148/148 [01:31<00:00,  1.62it/s]\n"
     ]
    },
    {
     "name": "stdout",
     "output_type": "stream",
     "text": [
      "{'faithfulness': 0.8850, 'answer_relevancy': 0.8875}\n"
     ]
    }
   ],
   "source": [
    "from ragas import evaluate\n",
    "from ragas.metrics import faithfulness, answer_relevancy\n",
    "\n",
    "#TODO : CONTEXT RECALL si CONTEXT PRECISION \n",
    "result = evaluate(\n",
    "    dataset[\"eval\"],\n",
    "    metrics=[faithfulness, answer_relevancy],  # no context_precision\n",
    ")\n",
    "\n",
    "print(result)\n"
   ]
  },
  {
   "cell_type": "code",
   "execution_count": null,
   "id": "dfd5e835-3c96-44ed-89cf-9f6b90e859b5",
   "metadata": {},
   "outputs": [],
   "source": []
  }
 ],
 "metadata": {
  "kernelspec": {
   "display_name": "Python 3 (ipykernel)",
   "language": "python",
   "name": "python3"
  },
  "language_info": {
   "codemirror_mode": {
    "name": "ipython",
    "version": 3
   },
   "file_extension": ".py",
   "mimetype": "text/x-python",
   "name": "python",
   "nbconvert_exporter": "python",
   "pygments_lexer": "ipython3",
   "version": "3.12.1"
  }
 },
 "nbformat": 4,
 "nbformat_minor": 5
}
