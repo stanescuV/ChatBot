{
 "cells": [
  {
   "cell_type": "code",
   "execution_count": null,
   "id": "d6497a60-4be0-4575-a01f-b20dd3871943",
   "metadata": {},
   "outputs": [],
   "source": [
    "from intrebari_test import intrebari_test, write_in_csv\n",
    "import numpy as np\n",
    "from chatbot import run_chatbot"
   ]
  },
  {
   "cell_type": "code",
   "execution_count": null,
   "id": "aa157b69-0fba-4926-8785-7bdadde318d6",
   "metadata": {},
   "outputs": [],
   "source": [
    "\n",
    "full_ragas_dataset = []\n",
    "test_intrebari_test = intrebari_test[0:2]\n",
    "\n",
    "print(test_intrebari_test)\n",
    "for _, intrebare_arr in intrebari_test:\n",
    "    intrebare = intrebare_arr[0]\n",
    "    answer, context = run_chatbot(intrebare)\n",
    "\n",
    "    ragas_dataset_obj = {\"question\":intrebare, \"context\":context, \"answer_gpt\":answer}\n",
    "    full_ragas_dataset.append(ragas_dataset_obj)\n",
    "\n",
    "write_in_csv(str(full_ragas_dataset))\n"
   ]
  }
 ],
 "metadata": {
  "kernelspec": {
   "display_name": "Python 3 (ipykernel)",
   "language": "python",
   "name": "python3"
  },
  "language_info": {
   "codemirror_mode": {
    "name": "ipython",
    "version": 3
   },
   "file_extension": ".py",
   "mimetype": "text/x-python",
   "name": "python",
   "nbconvert_exporter": "python",
   "pygments_lexer": "ipython3",
   "version": "3.12.1"
  }
 },
 "nbformat": 4,
 "nbformat_minor": 5
}
