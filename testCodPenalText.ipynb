{
 "cells": [
  {
   "cell_type": "code",
   "execution_count": 2,
   "id": "de2ae93a",
   "metadata": {},
   "outputs": [
    {
     "name": "stdout",
     "output_type": "stream",
     "text": [
      "{'ArtName': 'Legalitatea incriminării', 'ArtText': '(1) Legea penală prevede faptele care constituie infracţiuni.    (2) Nicio persoană nu poate ﬁ sancţionată penal pentru o faptă care nu era prevăzută de legea penală la data când a fost săvârşită.'}\n"
     ]
    }
   ],
   "source": [
    "import re\n",
    "\n",
    "with open(\"codPenal.txt\", \"r\", encoding='utf-8') as file:\n",
    "    codPenal = file.read()\n",
    "\n",
    "\n",
    "\n",
    "def parse_legal_articles(text):\n",
    "    # Define the pattern\n",
    "    pattern = re.compile(r'(Art\\.\\s\\d+\\.)')\n",
    "\n",
    "    # Split the text at each article start\n",
    "    parts = pattern.split(text)[1:]  # [1:] to skip the first empty result\n",
    "\n",
    "    articles = []\n",
    "    skip_keywords = [\"CAP\", \"SEC\", \"TIT\"]\n",
    "\n",
    "    for i in range(0, len(parts), 2):\n",
    "\n",
    "        article_content = parts[i + 1]\n",
    "\n",
    "        for keyword in skip_keywords:\n",
    "            if keyword in article_content:\n",
    "                keyword_position = article_content.find(keyword)\n",
    "                article_content = article_content[:keyword_position].strip()\n",
    "                break\n",
    "\n",
    "        article_content = article_content.replace('\\n', ' ')\n",
    "\n",
    "        article_name = article_content.split('.')[0].strip()\n",
    "        article_text = article_content.split('.', 1)[1].strip() if '.' in article_content else ''\n",
    "\n",
    "        articles.append({\n",
    "            'ArtName': article_name,\n",
    "            'ArtText': article_text\n",
    "        })\n",
    "\n",
    "    return articles\n",
    "\n",
    "\n",
    "\n",
    "# INSERT MILVUS\n",
    "\n",
    "embeddings = []\n",
    "articles = parse_legal_articles(codPenal)\n",
    "print(articles[0])\n",
    "\n",
    "\n",
    "\n"
   ]
  }
 ],
 "metadata": {
  "kernelspec": {
   "display_name": "Python 3",
   "language": "python",
   "name": "python3"
  },
  "language_info": {
   "codemirror_mode": {
    "name": "ipython",
    "version": 3
   },
   "file_extension": ".py",
   "mimetype": "text/x-python",
   "name": "python",
   "nbconvert_exporter": "python",
   "pygments_lexer": "ipython3",
   "version": "3.12.1"
  }
 },
 "nbformat": 4,
 "nbformat_minor": 5
}
